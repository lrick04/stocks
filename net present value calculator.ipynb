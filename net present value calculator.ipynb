{
 "cells": [
  {
   "cell_type": "code",
   "execution_count": null,
   "id": "4a5f2714",
   "metadata": {},
   "outputs": [],
   "source": [
    "kezdeti_beruhazas = float(input(\"Adja meg a kezdeti beruházás értékét!\"))\n",
    "piacon_elvart_hozam = float(input(\"Adja meg a piacon elvárt hozamot! (%)\")) / 100\n",
    "cash_flows = []\n",
    "ev_szam = int(input(\"Hány év cash flow-ját szeretnéd megadni?\"))\n",
    "for i in range(ev_szam):\n",
    "    cf = float(input(f\"Add meg az {i+1}. évi cash flow-ját:\"))\n",
    "    cash_flows.append(cf)\n",
    "\n",
    "npv = - kezdeti_beruhazas\n",
    "for t in range(1, ev_szam + 1):\n",
    " npv += cash_flows[t-1] / (1+piacon_elvart_hozam)**t\n",
    "\n",
    "print(f\"A projekt nettó jelentérték: {npv}.\")\n"
   ]
  }
 ],
 "metadata": {
  "kernelspec": {
   "display_name": "base",
   "language": "python",
   "name": "python3"
  },
  "language_info": {
   "codemirror_mode": {
    "name": "ipython",
    "version": 3
   },
   "file_extension": ".py",
   "mimetype": "text/x-python",
   "name": "python",
   "nbconvert_exporter": "python",
   "pygments_lexer": "ipython3",
   "version": "3.13.5"
  }
 },
 "nbformat": 4,
 "nbformat_minor": 5
}
